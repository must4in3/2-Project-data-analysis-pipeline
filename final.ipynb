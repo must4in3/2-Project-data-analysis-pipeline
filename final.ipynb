{
 "cells": [
  {
   "cell_type": "code",
   "execution_count": 1,
   "metadata": {},
   "outputs": [],
   "source": [
    "# pandas for data manipulation and analysis\n",
    "import pandas as pd\n",
    "# numpy to manipulate multi-dimensional arrays and matrices\n",
    "import numpy as np\n",
    "# re - regex to provides regular expression matching operations\n",
    "import re\n",
    "# the OS module in Python provides a way of using operating system dependent functionality\n",
    "import os\n",
    "# the requests module allows you to send HTTP requests using Python\n",
    "import requests\n",
    "# python-dotenv to read the key-value pair from . env file and adds them to environment variable.\n",
    "from dotenv import load_dotenv\n",
    "#Beautiful Soup is a Python library for pulling data out of HTML and XML files\n",
    "from bs4 import BeautifulSoup\n",
    "# The selenium package is used to automate web browser interaction from Python\n",
    "from selenium import webdriver\n",
    "# to simplify management of binary drivers for different browsers\n",
    "#import chromedriver_binary \n",
    "from webdriver_manager.chrome import ChromeDriverManager"
   ]
  },
  {
   "cell_type": "code",
   "execution_count": 2,
   "metadata": {},
   "outputs": [],
   "source": [
    "def import_dataset():\n",
    "    df = pd.read_csv('inputs/datasets_Nba_Players.csv', encoding = 'latin-1')\n",
    "    df = df.rename({'collage':'college'}, axis=1)\n",
    "    return df"
   ]
  },
  {
   "cell_type": "code",
   "execution_count": 3,
   "metadata": {},
   "outputs": [],
   "source": [
    "def save_api_key_in_env():\n",
    "    load_dotenv()\n",
    "    apikey = os.getenv(\"APIKEY\")\n",
    "    return apikey"
   ]
  },
  {
   "cell_type": "code",
   "execution_count": 4,
   "metadata": {},
   "outputs": [],
   "source": [
    "def url_web_api():\n",
    "    # enviar una request. Si sale un numero que empieza con 2 todo bien, \n",
    "    # o si no ver los errores de los gatos a ver que dicen!\n",
    "    url = 'http://api.probasketballapi.com/player'\n",
    "    res = requests.post(url)\n",
    "    return url"
   ]
  },
  {
   "cell_type": "code",
   "execution_count": 5,
   "metadata": {},
   "outputs": [],
   "source": [
    "def player_name():\n",
    "    first_name = input('Insert the name of an NBA player')\n",
    "    last_name = input('Insert the last_name of an NBA player')\n",
    "    return first_name, last_name"
   ]
  },
  {
   "cell_type": "code",
   "execution_count": 6,
   "metadata": {},
   "outputs": [],
   "source": [
    "def call_player(player_name):\n",
    "    try:\n",
    "        query = {'api_key': f'{apikey}', 'first_name':f'{player_name[0]}', 'last_name':f'{player_name[1]}'} \n",
    "        r = requests.post(url, data=query)\n",
    "        player_api =r.json()[0]\n",
    "        table_api = pd.DataFrame(player_api, index=[0])\n",
    "        return table_api.head()\n",
    "    except:\n",
    "        print('Player not in database. Try another one')\n",
    "        return call_player()"
   ]
  },
  {
   "cell_type": "code",
   "execution_count": 7,
   "metadata": {},
   "outputs": [],
   "source": [
    "def merge_info_api(player_name, player_table):\n",
    "    query_player = df[(df['Player']==f'{player_name[0]} {player_name[1]}')]\n",
    "    # Rename the column with the common data\n",
    "    player_table = player_table.rename({'player_name':'Player'}, axis=1)\n",
    "    # Merge of the two tables\n",
    "    query_player_update = pd.merge(query_player, player_table, on='Player', how='outer')\n",
    "    # Eliminate redundant information\n",
    "    query_player_update = query_player_update[['Unnamed: 0', 'Player', 'first_name', 'last_name', \n",
    "    'born', 'birth_date','birth_city', 'college','height', 'weight','position', 'dk_position']]\n",
    "    # Result compared to the original data)\n",
    "    return query_player_update"
   ]
  },
  {
   "cell_type": "code",
   "execution_count": 8,
   "metadata": {},
   "outputs": [],
   "source": [
    "def getPage(url):\n",
    "    # This function show a basic way to make a get requests used Selenium\n",
    "    # First line to to avoid this error:\n",
    "    # WebDriverException: Message: 'chromedriver' executable needs to be available in the path.\n",
    "    # driver.execute_script(..) to scroll the page in Selenium untill the bottom\n",
    "    driver = webdriver.Chrome(ChromeDriverManager().install())\n",
    "    driver.get(url)\n",
    "    driver.execute_script(\"window.scrollTo(0, document.body.scrollHeight);\")\n",
    "    #box = driver.find_element_by_xpath('/html/body/main/div[1]/div/div[1]/div[1]/input')\n",
    "    #box.send_keys('LeBron James')\n",
    "    html = driver.page_source\n",
    "    soup = BeautifulSoup(html)\n",
    "    driver.quit()\n",
    "    return soup"
   ]
  },
  {
   "cell_type": "code",
   "execution_count": 9,
   "metadata": {},
   "outputs": [],
   "source": [
    "# different way to scraping the webpabge, using CSS selector or tags\n",
    "# Ex.1 - just columns name\n",
    "def scraping_columnas(soup):\n",
    "    columnas = [table.text.split() for table in soup.select(\"thead\")]\n",
    "    return columnas\n",
    "def scraping_lenght(soup):\n",
    "    # Ex.2 - all value in the table\n",
    "    lenght = [table.text.split() for table in soup.select(\"tbody\")]\n",
    "    return lenght\n",
    "def scraping_row(soup):\n",
    "    row = [table.text.split() for table in soup.select(\"tbody > tr\")]\n",
    "    return row\n",
    "# I use the years variable to store the information of the athlete's years of activity, \n",
    "#which is different for each athlete. This way I can create a generic scraping that works for most players"
   ]
  },
  {
   "cell_type": "code",
   "execution_count": 10,
   "metadata": {},
   "outputs": [],
   "source": [
    "def cleaning_variable(row):\n",
    "    # clean the variable from unnecessary fields, to facilitate the process of creating dictionaries\n",
    "    new_row = []\n",
    "    for x in row:\n",
    "        if len(x)>1:\n",
    "            new_row.append(x)\n",
    "    return new_row\n",
    "\n",
    "def creacolumnas(columnas, empty_dict):\n",
    "    # this function allows you to create the keys of each dictionary\n",
    "    for column in columnas:\n",
    "        empty_dict[column] = []  \n",
    "        \n",
    "def creafilas(row, numpari, empty_dict, years):\n",
    "    # this function allows you to fill the data tables\n",
    "    for i,value in enumerate(empty_dict.keys()):\n",
    "        for x in range(years):\n",
    "            try:\n",
    "                empty_dict[value].append(row[x+(numpari*years)][i])\n",
    "            except:\n",
    "                pass"
   ]
  },
  {
   "cell_type": "code",
   "execution_count": 11,
   "metadata": {},
   "outputs": [],
   "source": [
    "def cleaning_tabla1(columnas, number):\n",
    "    # an additional procedure for cleaning the keys that will be inserted in each dictionary\n",
    "    columnas_tabla1 =columnas[0][number::]\n",
    "    return columnas_tabla1"
   ]
  },
  {
   "cell_type": "code",
   "execution_count": 12,
   "metadata": {},
   "outputs": [],
   "source": [
    "def create_selenium_player(number):\n",
    "    soup1 = getPage(f\"https://stats.nba.com/player/{number}\")\n",
    "    print(number)\n",
    "    columnas_player1 = scraping_columnas(soup1)\n",
    "    lenght_player1 = scraping_lenght(soup1)\n",
    "    row_player1 = scraping_row(soup1)\n",
    "    years_player1 = len(lenght_player1[1])\n",
    "    Traditional_Splits_player1  = dict()\n",
    "    new_row_player1 = cleaning_variable(row_player1)\n",
    "    if 'career' in str(number):\n",
    "        columnas_tabla_player1 = cleaning_tabla1(columnas_player1, 0)\n",
    "    else:\n",
    "        columnas_tabla_player1 = cleaning_tabla1(columnas_player1, 1)\n",
    "    creacolumnas(columnas_tabla_player1, Traditional_Splits_player1 )\n",
    "    creafilas(new_row_player1, 0, Traditional_Splits_player1 , years_player1)\n",
    "    table1 = pd.DataFrame(Traditional_Splits_player1)\n",
    "    return table1"
   ]
  },
  {
   "cell_type": "code",
   "execution_count": 13,
   "metadata": {},
   "outputs": [],
   "source": [
    "def merge_selenium_table(table):\n",
    "    # Change the type of each column in float in order to calculate its average of values\n",
    "    table = table[['GP','MIN','PTS','FGM','FGA','FG%','3PM','3PA','3P%','FTM','FTA','FT%',\n",
    "        'OREB','DREB','REB','AST','TOV','STL','BLK','PF']].astype(float)\n",
    "    # The new selenium dataset with the average statistics of the player's entire career\n",
    "    table_mean_stats = pd.DataFrame(table.mean()).T\n",
    "    return table_mean_stats"
   ]
  },
  {
   "cell_type": "code",
   "execution_count": 14,
   "metadata": {},
   "outputs": [],
   "source": [
    "def create_new_columns_to_merge_dataset(players_name, table):\n",
    "    table['Player'] = f'{players_name[0]} {players_name[1]}'\n",
    "    return table"
   ]
  },
  {
   "cell_type": "code",
   "execution_count": 15,
   "metadata": {},
   "outputs": [],
   "source": [
    "def merge_info_selenium(table_before_selenium, table_selenium):\n",
    "    # Merge of the two tables\n",
    "    final_table = pd.merge(table_before_selenium, table_selenium, on='Player', how='outer')\n",
    "    return final_table"
   ]
  },
  {
   "cell_type": "code",
   "execution_count": 16,
   "metadata": {},
   "outputs": [],
   "source": [
    "def create_final_table_player():\n",
    "    players1_table = call_player(players1_name)\n",
    "    player1_table_api = merge_info_api(players1_name, players1_table)\n",
    "    table_player1 = create_selenium_player(2544)\n",
    "    table_player1_selenium = merge_selenium_table(table_player1)\n",
    "    table_player1_selenium = create_new_columns_to_merge_dataset(players1_name, table_player1_selenium)\n",
    "    table_player1_final = merge_info_selenium(player1_table_api, table_player1_selenium)\n",
    "    return table_player1_final"
   ]
  },
  {
   "cell_type": "code",
   "execution_count": 17,
   "metadata": {},
   "outputs": [],
   "source": [
    "df = import_dataset()"
   ]
  },
  {
   "cell_type": "code",
   "execution_count": 18,
   "metadata": {},
   "outputs": [],
   "source": [
    "apikey = save_api_key_in_env()"
   ]
  },
  {
   "cell_type": "code",
   "execution_count": 19,
   "metadata": {},
   "outputs": [],
   "source": [
    "url = url_web_api()"
   ]
  },
  {
   "cell_type": "code",
   "execution_count": 20,
   "metadata": {},
   "outputs": [
    {
     "name": "stdout",
     "output_type": "stream",
     "text": [
      "Insert the name of an NBA playerLeBron\n",
      "Insert the last_name of an NBA playerJames\n"
     ]
    },
    {
     "name": "stderr",
     "output_type": "stream",
     "text": [
      "[WDM] - Current google-chrome version is 81.0.4044\n",
      "[WDM] - Get LATEST driver version for 81.0.4044\n"
     ]
    },
    {
     "name": "stdout",
     "output_type": "stream",
     "text": [
      " \n"
     ]
    },
    {
     "name": "stderr",
     "output_type": "stream",
     "text": [
      "[WDM] - Driver [/home/must4in3/.wdm/drivers/chromedriver/linux64/81.0.4044.138/chromedriver] found in cache\n"
     ]
    },
    {
     "name": "stdout",
     "output_type": "stream",
     "text": [
      "2544\n",
      "Insert the name of an NBA playerJames\n",
      "Insert the last_name of an NBA playerHarden\n"
     ]
    },
    {
     "name": "stderr",
     "output_type": "stream",
     "text": [
      "[WDM] - Current google-chrome version is 81.0.4044\n",
      "[WDM] - Get LATEST driver version for 81.0.4044\n",
      "[WDM] - Driver [/home/must4in3/.wdm/drivers/chromedriver/linux64/81.0.4044.138/chromedriver] found in cache\n"
     ]
    },
    {
     "name": "stdout",
     "output_type": "stream",
     "text": [
      " \n",
      "2544\n"
     ]
    }
   ],
   "source": [
    "players1_name = player_name()\n",
    "Player1 = create_final_table_player()\n",
    "Player2 = create_final_table_player()"
   ]
  },
  {
   "cell_type": "markdown",
   "metadata": {},
   "source": [
    "# Selenium"
   ]
  },
  {
   "cell_type": "markdown",
   "metadata": {},
   "source": [
    "# Merge dataset with Selenium infos"
   ]
  },
  {
   "cell_type": "code",
   "execution_count": 21,
   "metadata": {},
   "outputs": [
    {
     "data": {
      "text/html": [
       "<div>\n",
       "<style scoped>\n",
       "    .dataframe tbody tr th:only-of-type {\n",
       "        vertical-align: middle;\n",
       "    }\n",
       "\n",
       "    .dataframe tbody tr th {\n",
       "        vertical-align: top;\n",
       "    }\n",
       "\n",
       "    .dataframe thead th {\n",
       "        text-align: right;\n",
       "    }\n",
       "</style>\n",
       "<table border=\"1\" class=\"dataframe\">\n",
       "  <thead>\n",
       "    <tr style=\"text-align: right;\">\n",
       "      <th></th>\n",
       "      <th>Unnamed: 0</th>\n",
       "      <th>Player</th>\n",
       "      <th>first_name</th>\n",
       "      <th>last_name</th>\n",
       "      <th>born</th>\n",
       "      <th>birth_date</th>\n",
       "      <th>birth_city</th>\n",
       "      <th>college</th>\n",
       "      <th>height</th>\n",
       "      <th>weight</th>\n",
       "      <th>...</th>\n",
       "      <th>FTA</th>\n",
       "      <th>FT%</th>\n",
       "      <th>OREB</th>\n",
       "      <th>DREB</th>\n",
       "      <th>REB</th>\n",
       "      <th>AST</th>\n",
       "      <th>TOV</th>\n",
       "      <th>STL</th>\n",
       "      <th>BLK</th>\n",
       "      <th>PF</th>\n",
       "    </tr>\n",
       "  </thead>\n",
       "  <tbody>\n",
       "    <tr>\n",
       "      <th>0</th>\n",
       "      <td>2944</td>\n",
       "      <td>LeBron James</td>\n",
       "      <td>LeBron</td>\n",
       "      <td>James</td>\n",
       "      <td>1984.0</td>\n",
       "      <td>1984-12-30</td>\n",
       "      <td>Akron</td>\n",
       "      <td>NaN</td>\n",
       "      <td>203.0</td>\n",
       "      <td>113.0</td>\n",
       "      <td>...</td>\n",
       "      <td>7.958824</td>\n",
       "      <td>73.176471</td>\n",
       "      <td>1.194118</td>\n",
       "      <td>6.282353</td>\n",
       "      <td>7.452941</td>\n",
       "      <td>7.435294</td>\n",
       "      <td>3.511765</td>\n",
       "      <td>1.588235</td>\n",
       "      <td>0.741176</td>\n",
       "      <td>1.835294</td>\n",
       "    </tr>\n",
       "  </tbody>\n",
       "</table>\n",
       "<p>1 rows × 32 columns</p>\n",
       "</div>"
      ],
      "text/plain": [
       "   Unnamed: 0        Player first_name last_name    born  birth_date  \\\n",
       "0        2944  LeBron James     LeBron     James  1984.0  1984-12-30   \n",
       "\n",
       "  birth_city college  height  weight  ...       FTA        FT%      OREB  \\\n",
       "0      Akron     NaN   203.0   113.0  ...  7.958824  73.176471  1.194118   \n",
       "\n",
       "       DREB       REB       AST       TOV       STL       BLK        PF  \n",
       "0  6.282353  7.452941  7.435294  3.511765  1.588235  0.741176  1.835294  \n",
       "\n",
       "[1 rows x 32 columns]"
      ]
     },
     "execution_count": 21,
     "metadata": {},
     "output_type": "execute_result"
    }
   ],
   "source": [
    "Player1.head()"
   ]
  },
  {
   "cell_type": "code",
   "execution_count": null,
   "metadata": {},
   "outputs": [],
   "source": []
  }
 ],
 "metadata": {
  "kernelspec": {
   "display_name": "Python 3",
   "language": "python",
   "name": "python3"
  },
  "language_info": {
   "codemirror_mode": {
    "name": "ipython",
    "version": 3
   },
   "file_extension": ".py",
   "mimetype": "text/x-python",
   "name": "python",
   "nbconvert_exporter": "python",
   "pygments_lexer": "ipython3",
   "version": "3.7.6"
  }
 },
 "nbformat": 4,
 "nbformat_minor": 4
}
