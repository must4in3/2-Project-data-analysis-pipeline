{
 "cells": [
  {
   "cell_type": "code",
   "execution_count": 1,
   "metadata": {},
   "outputs": [],
   "source": [
    "# pandas for data manipulation and analysis\n",
    "import pandas as pd\n",
    "# numpy to manipulate multi-dimensional arrays and matrices\n",
    "import numpy as np\n",
    "# re - regex to provides regular expression matching operations\n",
    "import re\n",
    "# the OS module in Python provides a way of using operating system dependent functionality\n",
    "import os\n",
    "# the requests module allows you to send HTTP requests using Python\n",
    "import requests\n",
    "# python-dotenv to read the key-value pair from . env file and adds them to environment variable.\n",
    "from dotenv import load_dotenv\n",
    "#Beautiful Soup is a Python library for pulling data out of HTML and XML files\n",
    "from bs4 import BeautifulSoup\n",
    "# The selenium package is used to automate web browser interaction from Python\n",
    "from selenium import webdriver\n",
    "# to simplify management of binary drivers for different browsers\n",
    "#import chromedriver_binary \n",
    "from webdriver_manager.chrome import ChromeDriverManager"
   ]
  },
  {
   "cell_type": "markdown",
   "metadata": {},
   "source": [
    "# Import Dataset from Kaggle"
   ]
  },
  {
   "cell_type": "code",
   "execution_count": 2,
   "metadata": {},
   "outputs": [],
   "source": [
    "df = pd.read_csv('inputs/datasets_Nba_Players.csv', encoding = 'latin-1')"
   ]
  },
  {
   "cell_type": "code",
   "execution_count": 3,
   "metadata": {},
   "outputs": [],
   "source": [
    "# Correct the name of a column\n",
    "df = df.rename({'collage':'college'}, axis=1)"
   ]
  },
  {
   "cell_type": "code",
   "execution_count": 4,
   "metadata": {},
   "outputs": [
    {
     "data": {
      "text/html": [
       "<div>\n",
       "<style scoped>\n",
       "    .dataframe tbody tr th:only-of-type {\n",
       "        vertical-align: middle;\n",
       "    }\n",
       "\n",
       "    .dataframe tbody tr th {\n",
       "        vertical-align: top;\n",
       "    }\n",
       "\n",
       "    .dataframe thead th {\n",
       "        text-align: right;\n",
       "    }\n",
       "</style>\n",
       "<table border=\"1\" class=\"dataframe\">\n",
       "  <thead>\n",
       "    <tr style=\"text-align: right;\">\n",
       "      <th></th>\n",
       "      <th>Unnamed: 0</th>\n",
       "      <th>Player</th>\n",
       "      <th>height</th>\n",
       "      <th>weight</th>\n",
       "      <th>college</th>\n",
       "      <th>born</th>\n",
       "      <th>birth_city</th>\n",
       "      <th>birth_state</th>\n",
       "    </tr>\n",
       "  </thead>\n",
       "  <tbody>\n",
       "    <tr>\n",
       "      <th>0</th>\n",
       "      <td>0</td>\n",
       "      <td>Curly Armstrong</td>\n",
       "      <td>180.0</td>\n",
       "      <td>77.0</td>\n",
       "      <td>Indiana University</td>\n",
       "      <td>1918.0</td>\n",
       "      <td>NaN</td>\n",
       "      <td>NaN</td>\n",
       "    </tr>\n",
       "    <tr>\n",
       "      <th>1</th>\n",
       "      <td>1</td>\n",
       "      <td>Cliff Barker</td>\n",
       "      <td>188.0</td>\n",
       "      <td>83.0</td>\n",
       "      <td>University of Kentucky</td>\n",
       "      <td>1921.0</td>\n",
       "      <td>Yorktown</td>\n",
       "      <td>Indiana</td>\n",
       "    </tr>\n",
       "    <tr>\n",
       "      <th>2</th>\n",
       "      <td>2</td>\n",
       "      <td>Leo Barnhorst</td>\n",
       "      <td>193.0</td>\n",
       "      <td>86.0</td>\n",
       "      <td>University of Notre Dame</td>\n",
       "      <td>1924.0</td>\n",
       "      <td>NaN</td>\n",
       "      <td>NaN</td>\n",
       "    </tr>\n",
       "    <tr>\n",
       "      <th>3</th>\n",
       "      <td>3</td>\n",
       "      <td>Ed Bartels</td>\n",
       "      <td>196.0</td>\n",
       "      <td>88.0</td>\n",
       "      <td>North Carolina State University</td>\n",
       "      <td>1925.0</td>\n",
       "      <td>NaN</td>\n",
       "      <td>NaN</td>\n",
       "    </tr>\n",
       "    <tr>\n",
       "      <th>4</th>\n",
       "      <td>4</td>\n",
       "      <td>Ralph Beard</td>\n",
       "      <td>178.0</td>\n",
       "      <td>79.0</td>\n",
       "      <td>University of Kentucky</td>\n",
       "      <td>1927.0</td>\n",
       "      <td>Hardinsburg</td>\n",
       "      <td>Kentucky</td>\n",
       "    </tr>\n",
       "  </tbody>\n",
       "</table>\n",
       "</div>"
      ],
      "text/plain": [
       "   Unnamed: 0           Player  height  weight  \\\n",
       "0           0  Curly Armstrong   180.0    77.0   \n",
       "1           1     Cliff Barker   188.0    83.0   \n",
       "2           2    Leo Barnhorst   193.0    86.0   \n",
       "3           3       Ed Bartels   196.0    88.0   \n",
       "4           4      Ralph Beard   178.0    79.0   \n",
       "\n",
       "                           college    born   birth_city birth_state  \n",
       "0               Indiana University  1918.0          NaN         NaN  \n",
       "1           University of Kentucky  1921.0     Yorktown     Indiana  \n",
       "2         University of Notre Dame  1924.0          NaN         NaN  \n",
       "3  North Carolina State University  1925.0          NaN         NaN  \n",
       "4           University of Kentucky  1927.0  Hardinsburg    Kentucky  "
      ]
     },
     "execution_count": 4,
     "metadata": {},
     "output_type": "execute_result"
    }
   ],
   "source": [
    "df.head()"
   ]
  },
  {
   "cell_type": "code",
   "execution_count": 5,
   "metadata": {},
   "outputs": [
    {
     "data": {
      "text/html": [
       "<div>\n",
       "<style scoped>\n",
       "    .dataframe tbody tr th:only-of-type {\n",
       "        vertical-align: middle;\n",
       "    }\n",
       "\n",
       "    .dataframe tbody tr th {\n",
       "        vertical-align: top;\n",
       "    }\n",
       "\n",
       "    .dataframe thead th {\n",
       "        text-align: right;\n",
       "    }\n",
       "</style>\n",
       "<table border=\"1\" class=\"dataframe\">\n",
       "  <thead>\n",
       "    <tr style=\"text-align: right;\">\n",
       "      <th></th>\n",
       "      <th>count</th>\n",
       "      <th>mean</th>\n",
       "      <th>std</th>\n",
       "      <th>min</th>\n",
       "      <th>25%</th>\n",
       "      <th>50%</th>\n",
       "      <th>75%</th>\n",
       "      <th>max</th>\n",
       "    </tr>\n",
       "  </thead>\n",
       "  <tbody>\n",
       "    <tr>\n",
       "      <th>Unnamed: 0</th>\n",
       "      <td>3922.0</td>\n",
       "      <td>1960.500000</td>\n",
       "      <td>1132.328206</td>\n",
       "      <td>0.0</td>\n",
       "      <td>980.25</td>\n",
       "      <td>1960.5</td>\n",
       "      <td>2940.75</td>\n",
       "      <td>3921.0</td>\n",
       "    </tr>\n",
       "    <tr>\n",
       "      <th>height</th>\n",
       "      <td>3921.0</td>\n",
       "      <td>198.704922</td>\n",
       "      <td>9.269761</td>\n",
       "      <td>160.0</td>\n",
       "      <td>190.00</td>\n",
       "      <td>198.0</td>\n",
       "      <td>206.00</td>\n",
       "      <td>231.0</td>\n",
       "    </tr>\n",
       "    <tr>\n",
       "      <th>weight</th>\n",
       "      <td>3921.0</td>\n",
       "      <td>94.783219</td>\n",
       "      <td>12.039515</td>\n",
       "      <td>60.0</td>\n",
       "      <td>86.00</td>\n",
       "      <td>95.0</td>\n",
       "      <td>102.00</td>\n",
       "      <td>163.0</td>\n",
       "    </tr>\n",
       "    <tr>\n",
       "      <th>born</th>\n",
       "      <td>3921.0</td>\n",
       "      <td>1962.379750</td>\n",
       "      <td>20.334910</td>\n",
       "      <td>1913.0</td>\n",
       "      <td>1948.00</td>\n",
       "      <td>1964.0</td>\n",
       "      <td>1979.00</td>\n",
       "      <td>1997.0</td>\n",
       "    </tr>\n",
       "  </tbody>\n",
       "</table>\n",
       "</div>"
      ],
      "text/plain": [
       "             count         mean          std     min      25%     50%  \\\n",
       "Unnamed: 0  3922.0  1960.500000  1132.328206     0.0   980.25  1960.5   \n",
       "height      3921.0   198.704922     9.269761   160.0   190.00   198.0   \n",
       "weight      3921.0    94.783219    12.039515    60.0    86.00    95.0   \n",
       "born        3921.0  1962.379750    20.334910  1913.0  1948.00  1964.0   \n",
       "\n",
       "                75%     max  \n",
       "Unnamed: 0  2940.75  3921.0  \n",
       "height       206.00   231.0  \n",
       "weight       102.00   163.0  \n",
       "born        1979.00  1997.0  "
      ]
     },
     "execution_count": 5,
     "metadata": {},
     "output_type": "execute_result"
    }
   ],
   "source": [
    "# Generate descriptive statistics.\n",
    "#Descriptive statistics include those that summarize the central tendency, \n",
    "#dispersion and shape of a dataset’s distribution, excluding NaN values.\n",
    "\n",
    "df.describe().T"
   ]
  },
  {
   "cell_type": "code",
   "execution_count": 6,
   "metadata": {},
   "outputs": [
    {
     "data": {
      "text/plain": [
       "(3922, 8)"
      ]
     },
     "execution_count": 6,
     "metadata": {},
     "output_type": "execute_result"
    }
   ],
   "source": [
    "# Return a tuple representing the dimensionality of the DataFrame\n",
    "df.shape"
   ]
  },
  {
   "cell_type": "code",
   "execution_count": 7,
   "metadata": {},
   "outputs": [
    {
     "data": {
      "text/plain": [
       "Index(['Unnamed: 0', 'Player', 'height', 'weight', 'college', 'born',\n",
       "       'birth_city', 'birth_state'],\n",
       "      dtype='object')"
      ]
     },
     "execution_count": 7,
     "metadata": {},
     "output_type": "execute_result"
    }
   ],
   "source": [
    "# The column labels of the DataFrame\n",
    "df.columns"
   ]
  },
  {
   "cell_type": "code",
   "execution_count": 8,
   "metadata": {},
   "outputs": [
    {
     "data": {
      "text/plain": [
       "birth_state    483\n",
       "birth_city     470\n",
       "college        349\n",
       "born             1\n",
       "weight           1\n",
       "dtype: int64"
      ]
     },
     "execution_count": 8,
     "metadata": {},
     "output_type": "execute_result"
    }
   ],
   "source": [
    "# Detect missing values. Return a boolean output\n",
    "df.isnull().sum().sort_values(ascending=False).head(5)"
   ]
  },
  {
   "cell_type": "code",
   "execution_count": 9,
   "metadata": {},
   "outputs": [],
   "source": [
    "# Remove row where all values are None- No hace falta\n",
    "#df = df.dropna(how='all')"
   ]
  },
  {
   "cell_type": "markdown",
   "metadata": {},
   "source": [
    "# API\n",
    "https://probasketballapi.com/docs/v2/teams"
   ]
  },
  {
   "cell_type": "code",
   "execution_count": 10,
   "metadata": {},
   "outputs": [
    {
     "data": {
      "text/plain": [
       "True"
      ]
     },
     "execution_count": 10,
     "metadata": {},
     "output_type": "execute_result"
    }
   ],
   "source": [
    "load_dotenv()"
   ]
  },
  {
   "cell_type": "code",
   "execution_count": 11,
   "metadata": {},
   "outputs": [],
   "source": [
    "apikey = os.getenv(\"APIKEY\")"
   ]
  },
  {
   "cell_type": "code",
   "execution_count": 12,
   "metadata": {},
   "outputs": [],
   "source": [
    "#print(apikey)"
   ]
  },
  {
   "cell_type": "code",
   "execution_count": 13,
   "metadata": {},
   "outputs": [
    {
     "data": {
      "text/plain": [
       "<Response [200]>"
      ]
     },
     "execution_count": 13,
     "metadata": {},
     "output_type": "execute_result"
    }
   ],
   "source": [
    "# enviar una request. Si sale un numero que empieza con 2 todo bien, \n",
    "# o si no ver los errores de los gatos a ver que dicen!\n",
    "url = 'http://api.probasketballapi.com/player'\n",
    "res = requests.post(url)\n",
    "res"
   ]
  },
  {
   "cell_type": "code",
   "execution_count": 14,
   "metadata": {},
   "outputs": [
    {
     "name": "stdout",
     "output_type": "stream",
     "text": [
      "Insert the name of an NBA playerLeBron\n",
      "Insert the last_name of an NBA playerJames\n",
      "Insert the name of an NBA playerJames\n",
      "Insert the last_name of an NBA playerHarden\n"
     ]
    }
   ],
   "source": [
    "def player_name():\n",
    "    first_name = input('Insert the name of an NBA player')\n",
    "    last_name = input('Insert the last_name of an NBA player')\n",
    "    return first_name, last_name\n",
    "\n",
    "def call_player(player_name):\n",
    "    try:\n",
    "        query = {'api_key': f'{apikey}', 'first_name':f'{player_name[0]}', 'last_name':f'{player_name[1]}'} \n",
    "        r = requests.post(url, data=query)\n",
    "        player_api =r.json()[0]\n",
    "        table_api = pd.DataFrame(player_api, index=[0])\n",
    "        return table_api.head()\n",
    "    except:\n",
    "        print('Player not in database. Try another one')\n",
    "        return call_player()\n",
    "player1_name = player_name()\n",
    "player2_name = player_name()\n",
    "player1_table = call_player(player1_name)\n",
    "player2_table = call_player(player2_name)"
   ]
  },
  {
   "cell_type": "code",
   "execution_count": 15,
   "metadata": {},
   "outputs": [
    {
     "data": {
      "text/html": [
       "<div>\n",
       "<style scoped>\n",
       "    .dataframe tbody tr th:only-of-type {\n",
       "        vertical-align: middle;\n",
       "    }\n",
       "\n",
       "    .dataframe tbody tr th {\n",
       "        vertical-align: top;\n",
       "    }\n",
       "\n",
       "    .dataframe thead th {\n",
       "        text-align: right;\n",
       "    }\n",
       "</style>\n",
       "<table border=\"1\" class=\"dataframe\">\n",
       "  <thead>\n",
       "    <tr style=\"text-align: right;\">\n",
       "      <th></th>\n",
       "      <th>id</th>\n",
       "      <th>team_id</th>\n",
       "      <th>player_name</th>\n",
       "      <th>first_name</th>\n",
       "      <th>last_name</th>\n",
       "      <th>birth_date</th>\n",
       "      <th>position</th>\n",
       "      <th>dk_position</th>\n",
       "      <th>dk_id</th>\n",
       "    </tr>\n",
       "  </thead>\n",
       "  <tbody>\n",
       "    <tr>\n",
       "      <th>0</th>\n",
       "      <td>2544</td>\n",
       "      <td>1610612739</td>\n",
       "      <td>LeBron James</td>\n",
       "      <td>LeBron</td>\n",
       "      <td>James</td>\n",
       "      <td>1984-12-30</td>\n",
       "      <td>Forward</td>\n",
       "      <td>SF</td>\n",
       "      <td>214152</td>\n",
       "    </tr>\n",
       "  </tbody>\n",
       "</table>\n",
       "</div>"
      ],
      "text/plain": [
       "     id     team_id   player_name first_name last_name  birth_date position  \\\n",
       "0  2544  1610612739  LeBron James     LeBron     James  1984-12-30  Forward   \n",
       "\n",
       "  dk_position   dk_id  \n",
       "0          SF  214152  "
      ]
     },
     "metadata": {},
     "output_type": "display_data"
    },
    {
     "data": {
      "text/html": [
       "<div>\n",
       "<style scoped>\n",
       "    .dataframe tbody tr th:only-of-type {\n",
       "        vertical-align: middle;\n",
       "    }\n",
       "\n",
       "    .dataframe tbody tr th {\n",
       "        vertical-align: top;\n",
       "    }\n",
       "\n",
       "    .dataframe thead th {\n",
       "        text-align: right;\n",
       "    }\n",
       "</style>\n",
       "<table border=\"1\" class=\"dataframe\">\n",
       "  <thead>\n",
       "    <tr style=\"text-align: right;\">\n",
       "      <th></th>\n",
       "      <th>id</th>\n",
       "      <th>team_id</th>\n",
       "      <th>player_name</th>\n",
       "      <th>first_name</th>\n",
       "      <th>last_name</th>\n",
       "      <th>birth_date</th>\n",
       "      <th>position</th>\n",
       "      <th>dk_position</th>\n",
       "      <th>dk_id</th>\n",
       "    </tr>\n",
       "  </thead>\n",
       "  <tbody>\n",
       "    <tr>\n",
       "      <th>0</th>\n",
       "      <td>201935</td>\n",
       "      <td>1610612745</td>\n",
       "      <td>James Harden</td>\n",
       "      <td>James</td>\n",
       "      <td>Harden</td>\n",
       "      <td>1989-08-26</td>\n",
       "      <td>Guard</td>\n",
       "      <td>PG</td>\n",
       "      <td>395388</td>\n",
       "    </tr>\n",
       "  </tbody>\n",
       "</table>\n",
       "</div>"
      ],
      "text/plain": [
       "       id     team_id   player_name first_name last_name  birth_date position  \\\n",
       "0  201935  1610612745  James Harden      James    Harden  1989-08-26    Guard   \n",
       "\n",
       "  dk_position   dk_id  \n",
       "0          PG  395388  "
      ]
     },
     "metadata": {},
     "output_type": "display_data"
    }
   ],
   "source": [
    "display(player1_table)\n",
    "display(player2_table)"
   ]
  },
  {
   "cell_type": "markdown",
   "metadata": {},
   "source": [
    "### With the API they only get some more information about the players, such as the position on the pitch, and the complete date of birth.\n",
    "With different queries, however, *I can get information on the player's performance in a specific game.*\n",
    "The object of the analysis, however, is to compare the stats of two players, so **let's try to get this data through selenium**."
   ]
  },
  {
   "cell_type": "markdown",
   "metadata": {},
   "source": [
    "# Merge original dataset with API infos"
   ]
  },
  {
   "cell_type": "code",
   "execution_count": 18,
   "metadata": {},
   "outputs": [
    {
     "data": {
      "text/html": [
       "<div>\n",
       "<style scoped>\n",
       "    .dataframe tbody tr th:only-of-type {\n",
       "        vertical-align: middle;\n",
       "    }\n",
       "\n",
       "    .dataframe tbody tr th {\n",
       "        vertical-align: top;\n",
       "    }\n",
       "\n",
       "    .dataframe thead th {\n",
       "        text-align: right;\n",
       "    }\n",
       "</style>\n",
       "<table border=\"1\" class=\"dataframe\">\n",
       "  <thead>\n",
       "    <tr style=\"text-align: right;\">\n",
       "      <th></th>\n",
       "      <th>Unnamed: 0</th>\n",
       "      <th>Player</th>\n",
       "      <th>height</th>\n",
       "      <th>weight</th>\n",
       "      <th>college</th>\n",
       "      <th>born</th>\n",
       "      <th>birth_city</th>\n",
       "      <th>birth_state</th>\n",
       "    </tr>\n",
       "  </thead>\n",
       "  <tbody>\n",
       "    <tr>\n",
       "      <th>2944</th>\n",
       "      <td>2944</td>\n",
       "      <td>LeBron James</td>\n",
       "      <td>203.0</td>\n",
       "      <td>113.0</td>\n",
       "      <td>NaN</td>\n",
       "      <td>1984.0</td>\n",
       "      <td>Akron</td>\n",
       "      <td>Ohio</td>\n",
       "    </tr>\n",
       "  </tbody>\n",
       "</table>\n",
       "</div>"
      ],
      "text/plain": [
       "      Unnamed: 0        Player  height  weight college    born birth_city  \\\n",
       "2944        2944  LeBron James   203.0   113.0     NaN  1984.0      Akron   \n",
       "\n",
       "     birth_state  \n",
       "2944        Ohio  "
      ]
     },
     "metadata": {},
     "output_type": "display_data"
    },
    {
     "data": {
      "text/html": [
       "<div>\n",
       "<style scoped>\n",
       "    .dataframe tbody tr th:only-of-type {\n",
       "        vertical-align: middle;\n",
       "    }\n",
       "\n",
       "    .dataframe tbody tr th {\n",
       "        vertical-align: top;\n",
       "    }\n",
       "\n",
       "    .dataframe thead th {\n",
       "        text-align: right;\n",
       "    }\n",
       "</style>\n",
       "<table border=\"1\" class=\"dataframe\">\n",
       "  <thead>\n",
       "    <tr style=\"text-align: right;\">\n",
       "      <th></th>\n",
       "      <th>Unnamed: 0</th>\n",
       "      <th>Player</th>\n",
       "      <th>first_name</th>\n",
       "      <th>last_name</th>\n",
       "      <th>born</th>\n",
       "      <th>birth_date</th>\n",
       "      <th>birth_city</th>\n",
       "      <th>college</th>\n",
       "      <th>height</th>\n",
       "      <th>weight</th>\n",
       "      <th>position</th>\n",
       "      <th>dk_position</th>\n",
       "    </tr>\n",
       "  </thead>\n",
       "  <tbody>\n",
       "    <tr>\n",
       "      <th>0</th>\n",
       "      <td>2944</td>\n",
       "      <td>LeBron James</td>\n",
       "      <td>LeBron</td>\n",
       "      <td>James</td>\n",
       "      <td>1984.0</td>\n",
       "      <td>1984-12-30</td>\n",
       "      <td>Akron</td>\n",
       "      <td>NaN</td>\n",
       "      <td>203.0</td>\n",
       "      <td>113.0</td>\n",
       "      <td>Forward</td>\n",
       "      <td>SF</td>\n",
       "    </tr>\n",
       "  </tbody>\n",
       "</table>\n",
       "</div>"
      ],
      "text/plain": [
       "   Unnamed: 0        Player first_name last_name    born  birth_date  \\\n",
       "0        2944  LeBron James     LeBron     James  1984.0  1984-12-30   \n",
       "\n",
       "  birth_city college  height  weight position dk_position  \n",
       "0      Akron     NaN   203.0   113.0  Forward          SF  "
      ]
     },
     "metadata": {},
     "output_type": "display_data"
    },
    {
     "data": {
      "text/html": [
       "<div>\n",
       "<style scoped>\n",
       "    .dataframe tbody tr th:only-of-type {\n",
       "        vertical-align: middle;\n",
       "    }\n",
       "\n",
       "    .dataframe tbody tr th {\n",
       "        vertical-align: top;\n",
       "    }\n",
       "\n",
       "    .dataframe thead th {\n",
       "        text-align: right;\n",
       "    }\n",
       "</style>\n",
       "<table border=\"1\" class=\"dataframe\">\n",
       "  <thead>\n",
       "    <tr style=\"text-align: right;\">\n",
       "      <th></th>\n",
       "      <th>Unnamed: 0</th>\n",
       "      <th>Player</th>\n",
       "      <th>height</th>\n",
       "      <th>weight</th>\n",
       "      <th>college</th>\n",
       "      <th>born</th>\n",
       "      <th>birth_city</th>\n",
       "      <th>birth_state</th>\n",
       "    </tr>\n",
       "  </thead>\n",
       "  <tbody>\n",
       "    <tr>\n",
       "      <th>3357</th>\n",
       "      <td>3357</td>\n",
       "      <td>James Harden</td>\n",
       "      <td>196.0</td>\n",
       "      <td>99.0</td>\n",
       "      <td>Arizona State University</td>\n",
       "      <td>1989.0</td>\n",
       "      <td>Los Angeles</td>\n",
       "      <td>California</td>\n",
       "    </tr>\n",
       "  </tbody>\n",
       "</table>\n",
       "</div>"
      ],
      "text/plain": [
       "      Unnamed: 0        Player  height  weight                   college  \\\n",
       "3357        3357  James Harden   196.0    99.0  Arizona State University   \n",
       "\n",
       "        born   birth_city birth_state  \n",
       "3357  1989.0  Los Angeles  California  "
      ]
     },
     "metadata": {},
     "output_type": "display_data"
    },
    {
     "data": {
      "text/html": [
       "<div>\n",
       "<style scoped>\n",
       "    .dataframe tbody tr th:only-of-type {\n",
       "        vertical-align: middle;\n",
       "    }\n",
       "\n",
       "    .dataframe tbody tr th {\n",
       "        vertical-align: top;\n",
       "    }\n",
       "\n",
       "    .dataframe thead th {\n",
       "        text-align: right;\n",
       "    }\n",
       "</style>\n",
       "<table border=\"1\" class=\"dataframe\">\n",
       "  <thead>\n",
       "    <tr style=\"text-align: right;\">\n",
       "      <th></th>\n",
       "      <th>Unnamed: 0</th>\n",
       "      <th>Player</th>\n",
       "      <th>first_name</th>\n",
       "      <th>last_name</th>\n",
       "      <th>born</th>\n",
       "      <th>birth_date</th>\n",
       "      <th>birth_city</th>\n",
       "      <th>college</th>\n",
       "      <th>height</th>\n",
       "      <th>weight</th>\n",
       "      <th>position</th>\n",
       "      <th>dk_position</th>\n",
       "    </tr>\n",
       "  </thead>\n",
       "  <tbody>\n",
       "    <tr>\n",
       "      <th>0</th>\n",
       "      <td>3357</td>\n",
       "      <td>James Harden</td>\n",
       "      <td>James</td>\n",
       "      <td>Harden</td>\n",
       "      <td>1989.0</td>\n",
       "      <td>1989-08-26</td>\n",
       "      <td>Los Angeles</td>\n",
       "      <td>Arizona State University</td>\n",
       "      <td>196.0</td>\n",
       "      <td>99.0</td>\n",
       "      <td>Guard</td>\n",
       "      <td>PG</td>\n",
       "    </tr>\n",
       "  </tbody>\n",
       "</table>\n",
       "</div>"
      ],
      "text/plain": [
       "   Unnamed: 0        Player first_name last_name    born  birth_date  \\\n",
       "0        3357  James Harden      James    Harden  1989.0  1989-08-26   \n",
       "\n",
       "    birth_city                   college  height  weight position dk_position  \n",
       "0  Los Angeles  Arizona State University   196.0    99.0    Guard          PG  "
      ]
     },
     "metadata": {},
     "output_type": "display_data"
    }
   ],
   "source": [
    "def merge_info_api(player_name, player_table):\n",
    "    query_player = df[(df['Player']==f'{player_name[0]} {player_name[1]}')]\n",
    "    # Rename the column with the common data\n",
    "    player_table = player_table.rename({'player_name':'Player'}, axis=1)\n",
    "    # Merge of the two tables\n",
    "    query_player_update = pd.merge(query_player, player_table, on='Player', how='outer')\n",
    "    # Eliminate redundant information\n",
    "    query_player_update = query_player_update[['Unnamed: 0', 'Player', 'first_name', 'last_name', \n",
    "    'born', 'birth_date','birth_city', 'college','height', 'weight','position', 'dk_position']]\n",
    "    # Result compared to the original data\n",
    "    display(query_player)\n",
    "    display(query_player_update)\n",
    "    \n",
    "player1_table_api = merge_info_api(player1_name, player1_table)\n",
    "player2_table_api = merge_info_api(player2_name, player2_table)"
   ]
  },
  {
   "cell_type": "markdown",
   "metadata": {},
   "source": [
    "# SELENIUM AND WEB SCRAPING"
   ]
  },
  {
   "cell_type": "code",
   "execution_count": null,
   "metadata": {},
   "outputs": [],
   "source": [
    "def getPage(url):\n",
    "    # This function show a basic way to make a get requests used Selenium\n",
    "    # First line to to avoid this error:\n",
    "    # WebDriverException: Message: 'chromedriver' executable needs to be available in the path.\n",
    "    # driver.execute_script(..) to scroll the page in Selenium untill the bottom\n",
    "    driver = webdriver.Chrome(ChromeDriverManager().install())\n",
    "    driver.get(url)\n",
    "    driver.execute_script(\"window.scrollTo(0, document.body.scrollHeight);\")\n",
    "    html = driver.page_source\n",
    "    soup = BeautifulSoup(html)\n",
    "    driver.quit()\n",
    "    return soup"
   ]
  },
  {
   "cell_type": "code",
   "execution_count": null,
   "metadata": {},
   "outputs": [],
   "source": [
    "# Example with Lebron James stats\n",
    "soup = getPage(\"https://stats.nba.com/player/2544/\")"
   ]
  },
  {
   "cell_type": "code",
   "execution_count": null,
   "metadata": {},
   "outputs": [],
   "source": [
    "#soup"
   ]
  },
  {
   "cell_type": "code",
   "execution_count": null,
   "metadata": {},
   "outputs": [],
   "source": [
    "# different way to scraping the webpabge, using CSS selector or tags\n",
    "# Ex.1 - just columns name\n",
    "columnas = [table.text.split() for table in soup.select(\"thead\")]\n",
    "# Ex.2 - all value in the table\n",
    "lenght = [table.text.split() for table in soup.select(\"tbody\")]\n",
    "row = [table.text.split() for table in soup.select(\"tbody > tr\")]\n",
    "# I use the years variable to store the information of the athlete's years of activity, \n",
    "#which is different for each athlete. This way I can create a generic scraping that works for most players\n",
    "years = len(lenght[1])\n",
    "print(years)"
   ]
  },
  {
   "cell_type": "code",
   "execution_count": null,
   "metadata": {},
   "outputs": [],
   "source": [
    "# 5 dictionaries, each for each table\n",
    "Traditional_Splits  = dict()\n",
    "Advanced_Splits = dict()\n",
    "Misc_Splits = dict()\n",
    "Scoring_Splits = dict()\n",
    "Usage_Splits = dict() \n",
    "\n",
    "# clean the variable from unnecessary fields, to facilitate the process of creating dictionaries\n",
    "new_row = []\n",
    "for x in row:\n",
    "    if len(x)>1:\n",
    "        new_row.append(x)\n",
    "\n",
    "def creacolumnas(columnas, empty_dict):\n",
    "    # this function allows you to create the keys of each dictionary\n",
    "    for column in columnas:\n",
    "        empty_dict[column] = []  \n",
    "        \n",
    "def creafilas(row, numpari, empty_dict):\n",
    "    # this function allows you to fill the data tables\n",
    "    for i,value in enumerate(empty_dict.keys()):\n",
    "        for x in range(years):\n",
    "            try:\n",
    "                empty_dict[value].append(row[x+(numpari*years)][i])\n",
    "            except:\n",
    "                pass"
   ]
  },
  {
   "cell_type": "markdown",
   "metadata": {},
   "source": [
    "# Two types of data depending on the players\n",
    "\n",
    "\n",
    "On the web, data are organized in different ways. The active players have 5 tables of statistics while almost all the players no longer in activity have only 4 tables, which report distinct data (table 4 is not reported because it is not very interesting for statistical purposes.\n",
    "\n",
    "For this reason there are two types of filtering of the columns, so as not to cause errors when downloading data"
   ]
  },
  {
   "cell_type": "markdown",
   "metadata": {},
   "source": [
    "## Recent players\n",
    "\n",
    "<img src=\"inputs/Lebron.png\" width=\"300\">"
   ]
  },
  {
   "cell_type": "code",
   "execution_count": null,
   "metadata": {},
   "outputs": [],
   "source": [
    "# an additional procedure for cleaning the keys that will be inserted in each dictionary\n",
    "columnas_tabla1 =columnas[0][1::]\n",
    "columnas_tabla2 =columnas[2][1:11] + columnas[2][13::]\n",
    "columnas_tabla3 =columnas[4][1:5] + columnas[4][6:7] + columnas[4][8:9] + columnas[4][10:13] + columnas[4][15:16] + columnas[4][17::]\n",
    "columnas_tabla4 =columnas[6][1:9] + columnas[6][10::]\n",
    "columnas_tabla4[7] = '%PTS2PTMR'\n",
    "columnas_tabla5 = columnas[8][1::]\n",
    "# a print example\n",
    "print(columnas_tabla1)"
   ]
  },
  {
   "cell_type": "code",
   "execution_count": null,
   "metadata": {},
   "outputs": [],
   "source": [
    "# call the functions previously created for each table\n",
    "creacolumnas(columnas_tabla1, Traditional_Splits )\n",
    "creafilas(new_row, 0, Traditional_Splits )\n",
    "#print(Traditional_Splits)\n",
    "creacolumnas(columnas_tabla2, Advanced_Splits )\n",
    "creafilas(new_row, 1, Advanced_Splits )\n",
    "#print(Advanced_Splits)\n",
    "creacolumnas(columnas_tabla3, Misc_Splits )\n",
    "creafilas(new_row, 2, Misc_Splits )\n",
    "#print(Misc_Splits)\n",
    "creacolumnas(columnas_tabla4, Scoring_Splits )\n",
    "creafilas(new_row, 3, Scoring_Splits )\n",
    "#print(Scoring_Splits)\n",
    "creacolumnas(columnas_tabla5, Usage_Splits )\n",
    "creafilas(new_row, 4, Usage_Splits )\n",
    "#print(Usage_Splits)"
   ]
  },
  {
   "cell_type": "code",
   "execution_count": null,
   "metadata": {},
   "outputs": [],
   "source": [
    "table1 = pd.DataFrame(Traditional_Splits)\n",
    "table1.head()"
   ]
  },
  {
   "cell_type": "code",
   "execution_count": null,
   "metadata": {},
   "outputs": [],
   "source": [
    "table2  = pd.DataFrame(Advanced_Splits)\n",
    "table2.head()"
   ]
  },
  {
   "cell_type": "code",
   "execution_count": null,
   "metadata": {},
   "outputs": [],
   "source": [
    "table3 = pd.DataFrame(Misc_Splits)\n",
    "table3.head()"
   ]
  },
  {
   "cell_type": "code",
   "execution_count": null,
   "metadata": {},
   "outputs": [],
   "source": [
    "table4 = pd.DataFrame(Scoring_Splits)\n",
    "table4.head()"
   ]
  },
  {
   "cell_type": "code",
   "execution_count": null,
   "metadata": {},
   "outputs": [],
   "source": [
    "table5 = pd.DataFrame(Usage_Splits)\n",
    "table5.head()"
   ]
  },
  {
   "cell_type": "markdown",
   "metadata": {},
   "source": [
    "## Career players\n",
    "\n",
    "\n",
    "<img src=\"inputs/Jordan.jpeg\">"
   ]
  },
  {
   "cell_type": "code",
   "execution_count": null,
   "metadata": {},
   "outputs": [],
   "source": [
    "# Example with Michael Jordan stats\n",
    "soup2 = getPage(\"https://stats.nba.com/player/893/career/\")"
   ]
  },
  {
   "cell_type": "code",
   "execution_count": null,
   "metadata": {},
   "outputs": [],
   "source": [
    "# different way to scraping the webpabge, using CSS selector or tags\n",
    "# Ex.1 - just columns name\n",
    "columnas = [table.text.split() for table in soup2.select(\"thead\")]\n",
    "# Ex.2 - all value in the table\n",
    "lenght = [table.text.split() for table in soup2.select(\"tbody\")]\n",
    "row = [table.text.split() for table in soup2.select(\"tbody > tr\")]\n",
    "# I use the years variable to store the information of the athlete's years of activity, \n",
    "#which is different for each athlete. This way I can create a generic scraping that works for most players\n",
    "years = len(lenght[1])\n",
    "print(years)"
   ]
  },
  {
   "cell_type": "code",
   "execution_count": null,
   "metadata": {},
   "outputs": [],
   "source": [
    "columnas_tabla1_carrer =columnas[0]\n",
    "columnas_tabla2_carrer =columnas[2]\n",
    "columnas_tabla3_carrer =columnas[4]\n",
    "print(columnas_tabla3_carrer)"
   ]
  },
  {
   "cell_type": "code",
   "execution_count": null,
   "metadata": {},
   "outputs": [],
   "source": [
    "# 3 dictionaries, each for each table\n",
    "Career_Regular_Season_Stats  = dict()\n",
    "Career_Playoffs_Stats = dict()\n",
    "Career_All_Star_Stats = dict()\n",
    "# clean the variable from unnecessary fields, to facilitate the process of creating dictionaries\n",
    "new_row = []\n",
    "for x in row:\n",
    "    if len(x)>1:\n",
    "        new_row.append(x)"
   ]
  },
  {
   "cell_type": "code",
   "execution_count": null,
   "metadata": {},
   "outputs": [],
   "source": [
    "creacolumnas(columnas_tabla1_carrer, Career_Regular_Season_Stats )\n",
    "creafilas(new_row, 0, Career_Regular_Season_Stats )\n",
    "#print(Career_Regular_Season_Stats)\n",
    "creacolumnas(columnas_tabla2_carrer, Career_Playoffs_Stats )\n",
    "creafilas(new_row, 1, Career_Playoffs_Stats )\n",
    "#print(Career_Playoffs_Stats)\n",
    "creacolumnas(columnas_tabla3_carrer, Career_All_Star_Stats )\n",
    "creafilas(new_row, 2, Career_All_Star_Stats )\n",
    "#print(Career_All_Star_Stats)"
   ]
  },
  {
   "cell_type": "code",
   "execution_count": null,
   "metadata": {},
   "outputs": [],
   "source": [
    "table1_carrer = pd.DataFrame(Career_Regular_Season_Stats)\n",
    "table1_carrer.head()"
   ]
  },
  {
   "cell_type": "code",
   "execution_count": null,
   "metadata": {},
   "outputs": [],
   "source": [
    "table2_carrer = pd.DataFrame(Career_Playoffs_Stats)\n",
    "table2_carrer.head()"
   ]
  },
  {
   "cell_type": "code",
   "execution_count": null,
   "metadata": {},
   "outputs": [],
   "source": [
    "table3_carrer = pd.DataFrame(Career_All_Star_Stats)\n",
    "table3_carrer.head()"
   ]
  },
  {
   "cell_type": "markdown",
   "metadata": {},
   "source": [
    "# Merge dataset with Selenium infos"
   ]
  },
  {
   "cell_type": "code",
   "execution_count": null,
   "metadata": {},
   "outputs": [],
   "source": [
    "# Change the type of each column in float in order to calculate its average of values\n",
    "table1 = table1[['GP','MIN','PTS','FGM','FGA','FG%','3PM','3PA','3P%','FTM','FTA','FT%',\n",
    "        'OREB','DREB','REB','AST','TOV','STL','BLK','PF']].astype(float)\n",
    "# The new selenium dataset with the average statistics of the player's entire career\n",
    "table1_mean_stats = pd.DataFrame(table1.mean()).T\n",
    "table1_mean_stats"
   ]
  },
  {
   "cell_type": "code",
   "execution_count": null,
   "metadata": {},
   "outputs": [],
   "source": [
    "table1_mean_stats['Player'] = f'{first_name} {last_name}'\n",
    "# Rename the column with the common data\n",
    "#table_api = table_api.rename({'player_name':'Player'}, axis=1)\n",
    "# Merge of the two tables\n",
    "query_player_final = pd.merge(query_player_update, table1_mean_stats, on='Player', how='outer')"
   ]
  },
  {
   "cell_type": "code",
   "execution_count": null,
   "metadata": {},
   "outputs": [],
   "source": [
    "# Result compared to the original data\n",
    "display(query_player)\n",
    "display(query_player_final)"
   ]
  },
  {
   "cell_type": "code",
   "execution_count": null,
   "metadata": {},
   "outputs": [],
   "source": [
    "# Change the type of each column in float in order to calculate its average of values\n",
    "table1_carrer = table1_carrer[['GP','MIN','PTS','FGM','FGA','FG%','3PM','3PA','3P%','FTM','FTA','FT%',\n",
    "        'OREB','DREB','REB','AST','TOV','STL','BLK','PF']].astype(float)"
   ]
  },
  {
   "cell_type": "code",
   "execution_count": null,
   "metadata": {},
   "outputs": [],
   "source": [
    "table1_carrer_mean_stats = pd.DataFrame(table1_carrer.mean()).T\n",
    "table1_carrer_mean_stats"
   ]
  },
  {
   "cell_type": "code",
   "execution_count": null,
   "metadata": {},
   "outputs": [],
   "source": []
  }
 ],
 "metadata": {
  "kernelspec": {
   "display_name": "Python 3",
   "language": "python",
   "name": "python3"
  },
  "language_info": {
   "codemirror_mode": {
    "name": "ipython",
    "version": 3
   },
   "file_extension": ".py",
   "mimetype": "text/x-python",
   "name": "python",
   "nbconvert_exporter": "python",
   "pygments_lexer": "ipython3",
   "version": "3.7.6"
  }
 },
 "nbformat": 4,
 "nbformat_minor": 4
}
